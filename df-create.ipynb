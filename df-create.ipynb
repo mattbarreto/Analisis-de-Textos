{
 "cells": [
  {
   "cell_type": "code",
   "execution_count": 1,
   "id": "cd20e43f",
   "metadata": {
    "_cell_guid": "b1076dfc-b9ad-4769-8c92-a6c4dae69d19",
    "_uuid": "8f2839f25d086af736a60e9eeb907d3b93b6e0e5",
    "execution": {
     "iopub.execute_input": "2023-01-30T23:21:07.557635Z",
     "iopub.status.busy": "2023-01-30T23:21:07.556985Z",
     "iopub.status.idle": "2023-01-30T23:21:07.569208Z",
     "shell.execute_reply": "2023-01-30T23:21:07.567975Z"
    },
    "papermill": {
     "duration": 0.020394,
     "end_time": "2023-01-30T23:21:07.572141",
     "exception": false,
     "start_time": "2023-01-30T23:21:07.551747",
     "status": "completed"
    },
    "tags": []
   },
   "outputs": [],
   "source": [
    "import pandas as pd\n",
    "import numpy as np"
   ]
  },
  {
   "cell_type": "code",
   "execution_count": 2,
   "id": "62d32efb",
   "metadata": {
    "execution": {
     "iopub.execute_input": "2023-01-30T23:21:07.578763Z",
     "iopub.status.busy": "2023-01-30T23:21:07.577692Z",
     "iopub.status.idle": "2023-01-30T23:21:07.599295Z",
     "shell.execute_reply": "2023-01-30T23:21:07.598420Z"
    },
    "papermill": {
     "duration": 0.027063,
     "end_time": "2023-01-30T23:21:07.601620",
     "exception": false,
     "start_time": "2023-01-30T23:21:07.574557",
     "status": "completed"
    },
    "tags": []
   },
   "outputs": [],
   "source": [
    "dataFrame = pd.DataFrame ({\n",
    "        'Fecha': ['2023-01-27', '2023-01-25', '2023-01-23', '2023-01-20', '2023-01-18','2023-01-16', '2023-01-14'],\n",
    "        'Hora inicio': ['11:04:00', '08:50:00', '21:06:00', '09:33:00', '09:50:00', '21:04:00', '17:13:00'],\n",
    "        'Hora de finalización': ['', '09:50:00',' ', ' ', ' ', ' ', ' '],\n",
    "        'Duración sesion': ['00:55:18', '01:01:11', '00:37:45', '00:53:54', '00:54:21', '00:33:56', '00:43:00'],\n",
    "        'Tipo entrenamiento': ['Estilos', 'Estilos','Series', 'Series', 'Estilos', 'Series', 'Series'],\n",
    "        'Objetivos': ['Mejorar Tecnica','Mejorar Tecnica', 'Mejorar Tecnica', 'Mejorar Tecnica', 'Resistencia', 'Mejorar Tecnica', 'Prueba'],\n",
    "        'Metas': ['Mejorar crawl','Mejorar crawl', 'Aumentar distancia', 'Incrementar velocidad', 'Incrementar velocidad', '', ''],\n",
    "        'Metros piscina': [20, 20, 20, 20, 20, 20, 5],\n",
    "        'Metros totales': [1420, 1340, 780, 1100, 1220, 820, 240],\n",
    "        'Cantidad de brazadas': [890, 818, 506, 663, 832, 455, 73],\n",
    "        'Frecuencia cardíaca': [135, 131, 134, 137, 137, 135, 116],\n",
    "        'Calorías quemadas': [433, 401, 255, 381, 500, 217, 58],\n",
    "        'Tiempo estilo espalda': ['00:15:00', '00:18:00', '00:15:00', '00:15:00', '00:15:00', '00:15:00', ''],\n",
    "        'Metros estilo espalda': [500, 360, 300, 300, 300, 260,''],\n",
    "        'Repeticiones estilo espalda': [4, 3, 4, 4, 4, 4, ''],\n",
    "        'Tiempo estilo pecho': ['00:15:00', '00:16:00', '00:15:00', '00:17:00', '00:15:00', '00:13:00',''],\n",
    "        'Metros estilo pecho': [300, 360, 300, 300, 400, 360, ''],\n",
    "        'Repeticiones estilo pecho': [3, 3, 2, 2, 2, 2, ''],\n",
    "        'Tiempo estilo crawl': ['00:25:00', '00:10:00', '00:10:00', '00:15:00', '00:12:00', '00:15:00', ''],\n",
    "        'Metros estilo crawl': [600, 300, 300, 300, 200, '', ''],\n",
    "        'Repeticiones estilo crawl': [4, 3, 2, 2, 2, 2, ''],\n",
    "        'Descanso entre series': ['00:00:45', '00:01:00', '00:01:30', '00:01:30', '00:01:30', '00:01:30', '00:01:30'],\n",
    "        'Ritmo promedio': [3.54, 4.34, 4.5, 4.54, 4.27, 4.08, 17.55],\n",
    "        'Vueltas': [71, 67, 39, 55, 61, 41, 12],\n",
    "        'Tiempo ingesta previa': ['01:00:00', '01:00:00', '01:00:00', '01:00:00', '01:00:00', '01:00:00', '01:00:00'],\n",
    "        'Ingesta descripcion': ['Cafe, cereales, banana', 'Cafe, cereales, banana', 'Cafe, banana', 'Cafe, cereales, banana', 'Cafe, panes', 'Cafe, cereales, banana', 'Banana'],\n",
    "        'Suplemento dietario': ['Creatina', 'Creatina', 'Creatina', 'Creatina', 'Creatina', 'Creatina', 'Creatina'],\n",
    "        'Ejercicios previos': ['Caminata', 'Caminata', 'Caminata', 'Caminata', 'Caminata', 'Caminata', 'Caminata'],\n",
    "        'Tiempo ejercicios previos': ['00:00:10', '00:00:10', '00:00:10', '00:00:10', '00:00:10', '00:00:10', '00:00:10'],\n",
    "        'Sensaciones entrenamiento': ['Muy buenas', 'Buenas', 'Buenas', 'Buenas', 'Buenas', 'Buenas', 'Piscina Pequeña'],\n",
    "       })"
   ]
  },
  {
   "cell_type": "code",
   "execution_count": 3,
   "id": "9b93e9f5",
   "metadata": {
    "execution": {
     "iopub.execute_input": "2023-01-30T23:21:07.607160Z",
     "iopub.status.busy": "2023-01-30T23:21:07.606624Z",
     "iopub.status.idle": "2023-01-30T23:21:07.631929Z",
     "shell.execute_reply": "2023-01-30T23:21:07.630516Z"
    },
    "papermill": {
     "duration": 0.031669,
     "end_time": "2023-01-30T23:21:07.635288",
     "exception": false,
     "start_time": "2023-01-30T23:21:07.603619",
     "status": "completed"
    },
    "tags": []
   },
   "outputs": [
    {
     "name": "stdout",
     "output_type": "stream",
     "text": [
      "<class 'pandas.core.frame.DataFrame'>\n",
      "RangeIndex: 7 entries, 0 to 6\n",
      "Data columns (total 30 columns):\n",
      " #   Column                       Non-Null Count  Dtype  \n",
      "---  ------                       --------------  -----  \n",
      " 0   Fecha                        7 non-null      object \n",
      " 1   Hora inicio                  7 non-null      object \n",
      " 2   Hora de finalización         7 non-null      object \n",
      " 3   Duración sesion              7 non-null      object \n",
      " 4   Tipo entrenamiento           7 non-null      object \n",
      " 5   Objetivos                    7 non-null      object \n",
      " 6   Metas                        7 non-null      object \n",
      " 7   Metros piscina               7 non-null      int64  \n",
      " 8   Metros totales               7 non-null      int64  \n",
      " 9   Cantidad de brazadas         7 non-null      int64  \n",
      " 10  Frecuencia cardíaca          7 non-null      int64  \n",
      " 11  Calorías quemadas            7 non-null      int64  \n",
      " 12  Tiempo estilo espalda        7 non-null      object \n",
      " 13  Metros estilo espalda        7 non-null      object \n",
      " 14  Repeticiones estilo espalda  7 non-null      object \n",
      " 15  Tiempo estilo pecho          7 non-null      object \n",
      " 16  Metros estilo pecho          7 non-null      object \n",
      " 17  Repeticiones estilo pecho    7 non-null      object \n",
      " 18  Tiempo estilo crawl          7 non-null      object \n",
      " 19  Metros estilo crawl          7 non-null      object \n",
      " 20  Repeticiones estilo crawl    7 non-null      object \n",
      " 21  Descanso entre series        7 non-null      object \n",
      " 22  Ritmo promedio               7 non-null      float64\n",
      " 23  Vueltas                      7 non-null      int64  \n",
      " 24  Tiempo ingesta previa        7 non-null      object \n",
      " 25  Ingesta descripcion          7 non-null      object \n",
      " 26  Suplemento dietario          7 non-null      object \n",
      " 27  Ejercicios previos           7 non-null      object \n",
      " 28  Tiempo ejercicios previos    7 non-null      object \n",
      " 29  Sensaciones entrenamiento    7 non-null      object \n",
      "dtypes: float64(1), int64(6), object(23)\n",
      "memory usage: 1.8+ KB\n",
      "None\n"
     ]
    }
   ],
   "source": [
    "print(dataFrame.info())"
   ]
  }
 ],
 "metadata": {
  "kernelspec": {
   "display_name": "Python 3",
   "language": "python",
   "name": "python3"
  },
  "language_info": {
   "codemirror_mode": {
    "name": "ipython",
    "version": 3
   },
   "file_extension": ".py",
   "mimetype": "text/x-python",
   "name": "python",
   "nbconvert_exporter": "python",
   "pygments_lexer": "ipython3",
   "version": "3.7.12"
  },
  "papermill": {
   "default_parameters": {},
   "duration": 9.401229,
   "end_time": "2023-01-30T23:21:08.258240",
   "environment_variables": {},
   "exception": null,
   "input_path": "__notebook__.ipynb",
   "output_path": "__notebook__.ipynb",
   "parameters": {},
   "start_time": "2023-01-30T23:20:58.857011",
   "version": "2.3.4"
  }
 },
 "nbformat": 4,
 "nbformat_minor": 5
}
